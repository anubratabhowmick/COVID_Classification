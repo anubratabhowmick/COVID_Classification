{
  "nbformat": 4,
  "nbformat_minor": 0,
  "metadata": {
    "colab": {
      "name": "COVID19_DNS.ipynb",
      "provenance": []
    },
    "kernelspec": {
      "name": "python3",
      "display_name": "Python 3"
    }
  },
  "cells": [
    {
      "cell_type": "code",
      "metadata": {
        "id": "LZJf3cTvZ0Kt",
        "outputId": "4f46a1b9-2281-421e-d2be-61e463c52662",
        "colab": {
          "base_uri": "https://localhost:8080/",
          "height": 122
        }
      },
      "source": [
        "from google.colab import drive\n",
        "drive.mount('/content/drive')"
      ],
      "execution_count": null,
      "outputs": [
        {
          "output_type": "stream",
          "text": [
            "Go to this URL in a browser: https://accounts.google.com/o/oauth2/auth?client_id=947318989803-6bn6qk8qdgf4n4g3pfee6491hc0brc4i.apps.googleusercontent.com&redirect_uri=urn%3aietf%3awg%3aoauth%3a2.0%3aoob&scope=email%20https%3a%2f%2fwww.googleapis.com%2fauth%2fdocs.test%20https%3a%2f%2fwww.googleapis.com%2fauth%2fdrive%20https%3a%2f%2fwww.googleapis.com%2fauth%2fdrive.photos.readonly%20https%3a%2f%2fwww.googleapis.com%2fauth%2fpeopleapi.readonly&response_type=code\n",
            "\n",
            "Enter your authorization code:\n",
            "··········\n",
            "Mounted at /content/drive\n"
          ],
          "name": "stdout"
        }
      ]
    },
    {
      "cell_type": "code",
      "metadata": {
        "id": "0FwaD5IxcHNu"
      },
      "source": [
        "from tensorflow.keras.preprocessing.image import ImageDataGenerator\n",
        "from tensorflow.keras.applications import VGG16, DenseNet121\n",
        "from tensorflow.keras.layers import AveragePooling2D, GlobalMaxPool2D\n",
        "from tensorflow.keras.layers import Dropout\n",
        "from tensorflow.keras.layers import Flatten\n",
        "from tensorflow.keras.layers import Dense\n",
        "from tensorflow.keras.layers import Input\n",
        "from tensorflow.keras.models import Model\n",
        "from tensorflow.keras.optimizers import Adam\n",
        "from tensorflow.keras.utils import to_categorical\n",
        "from sklearn.preprocessing import LabelBinarizer\n",
        "from sklearn.model_selection import train_test_split\n",
        "from sklearn.metrics import classification_report\n",
        "from sklearn.metrics import confusion_matrix\n",
        "from imutils import paths\n",
        "import matplotlib.pyplot as plt\n",
        "import numpy as np\n",
        "import argparse\n",
        "import cv2\n",
        "import os\n",
        "import glob"
      ],
      "execution_count": null,
      "outputs": []
    },
    {
      "cell_type": "code",
      "metadata": {
        "id": "6wMOmW9QcOO6"
      },
      "source": [
        "#DNS Images Directories\n",
        "\n",
        "trainFolder = '/content/drive/My Drive/COVID-CT/DNS/TrainDNS'"
      ],
      "execution_count": null,
      "outputs": []
    },
    {
      "cell_type": "code",
      "metadata": {
        "id": "73RnDkO_cVYD"
      },
      "source": [
        "# trainDataLBP = []\n",
        "# trainLabel = [] #temporary storage\n",
        "# trainLabelLBP = []\n",
        "\n",
        "INIT_LR = 1e-3\n",
        "EPOCHS = 25\n",
        "BS = 8"
      ],
      "execution_count": null,
      "outputs": []
    },
    {
      "cell_type": "code",
      "metadata": {
        "id": "t1tQvDUScXqC"
      },
      "source": [
        "train_image_generator = ImageDataGenerator(rescale=1./255, validation_split=0.2)"
      ],
      "execution_count": null,
      "outputs": []
    },
    {
      "cell_type": "code",
      "metadata": {
        "id": "IS5JCpHVcZdb",
        "outputId": "2ab41ce3-9e51-496c-9b2c-7de7fee3921d",
        "colab": {
          "base_uri": "https://localhost:8080/",
          "height": 51
        }
      },
      "source": [
        "train_data_gen = train_image_generator.flow_from_directory(batch_size=BS,\n",
        "                                                           directory = trainFolder,\n",
        "                                                           shuffle=True,\n",
        "                                                           target_size=(255, 255),\n",
        "                                                           class_mode='categorical',\n",
        "                                                           subset='training')\n",
        "\n",
        "validation_data_gen = train_image_generator.flow_from_directory(batch_size=BS,\n",
        "                                                           directory = trainFolder,\n",
        "                                                           shuffle=True,\n",
        "                                                           target_size=(255, 255),\n",
        "                                                           class_mode='categorical',\n",
        "                                                           subset='validation')"
      ],
      "execution_count": null,
      "outputs": [
        {
          "output_type": "stream",
          "text": [
            "Found 336 images belonging to 2 classes.\n",
            "Found 83 images belonging to 2 classes.\n"
          ],
          "name": "stdout"
        }
      ]
    },
    {
      "cell_type": "code",
      "metadata": {
        "id": "B1ptXZhJca6t"
      },
      "source": [
        "#baseModel = VGG16(weights=\"imagenet\", include_top=False, input_tensor=Input(shape=(224, 224, 3)))\n",
        "baseModel = DenseNet121(weights=\"imagenet\", include_top=False, input_tensor=Input(shape=(224, 224, 3)))\n",
        "\n",
        "headModel = baseModel.output\n",
        "headModel = GlobalMaxPool2D()(headModel)\n",
        "headModel = Flatten(name=\"flatten\")(headModel)\n",
        "headModel = Dense(64, activation=\"relu\")(headModel)\n",
        "headModel = Dropout(0.3)(headModel)\n",
        "headModel = Dense(2, activation=\"softmax\")(headModel)\n",
        "\n",
        "model = Model(inputs=baseModel.input, outputs=headModel)\n",
        "\n",
        "for layer in baseModel.layers:\n",
        "    layer.trainable = False"
      ],
      "execution_count": null,
      "outputs": []
    },
    {
      "cell_type": "code",
      "metadata": {
        "id": "Af0LvxG6cdqd",
        "outputId": "8c45f310-3222-4f00-a5ea-d83818da7188",
        "colab": {
          "base_uri": "https://localhost:8080/",
          "height": 921
        }
      },
      "source": [
        "print(\"[INFO] compiling model...\")\n",
        "opt = Adam(lr=INIT_LR, decay=INIT_LR / EPOCHS)\n",
        "model.compile(loss=\"binary_crossentropy\", optimizer=opt, metrics=[\"accuracy\"])\n",
        "\n",
        "# train the head of the network\n",
        "print(\"[INFO] training head...\")\n",
        "# H = model.fit(trainAug.flow(trainX, trainY, batch_size=BS), steps_per_epoch=len(trainX)/10, validation_data=(testX, testY), validation_steps=len(testX)/10, epochs=10)\n",
        "H = model.fit(train_data_gen, steps_per_epoch=train_data_gen.samples//BS, validation_data=validation_data_gen, validation_steps=validation_data_gen.samples//BS, epochs = EPOCHS)\n"
      ],
      "execution_count": null,
      "outputs": [
        {
          "output_type": "stream",
          "text": [
            "[INFO] compiling model...\n",
            "[INFO] training head...\n",
            "Epoch 1/25\n",
            "42/42 [==============================] - 75s 2s/step - loss: 1.4010 - accuracy: 0.5565 - val_loss: 0.5563 - val_accuracy: 0.7125\n",
            "Epoch 2/25\n",
            "42/42 [==============================] - 74s 2s/step - loss: 0.7305 - accuracy: 0.6250 - val_loss: 0.6320 - val_accuracy: 0.6125\n",
            "Epoch 3/25\n",
            "42/42 [==============================] - 74s 2s/step - loss: 0.6457 - accuracy: 0.6488 - val_loss: 0.6651 - val_accuracy: 0.5500\n",
            "Epoch 4/25\n",
            "42/42 [==============================] - 73s 2s/step - loss: 0.6254 - accuracy: 0.6458 - val_loss: 0.6357 - val_accuracy: 0.6250\n",
            "Epoch 5/25\n",
            "42/42 [==============================] - 74s 2s/step - loss: 0.6010 - accuracy: 0.6875 - val_loss: 0.5633 - val_accuracy: 0.7125\n",
            "Epoch 6/25\n",
            "42/42 [==============================] - 74s 2s/step - loss: 0.5645 - accuracy: 0.7292 - val_loss: 0.5748 - val_accuracy: 0.6875\n",
            "Epoch 7/25\n",
            "42/42 [==============================] - 75s 2s/step - loss: 0.5568 - accuracy: 0.7173 - val_loss: 0.5611 - val_accuracy: 0.6875\n",
            "Epoch 8/25\n",
            "42/42 [==============================] - 75s 2s/step - loss: 0.5334 - accuracy: 0.7321 - val_loss: 0.5059 - val_accuracy: 0.7750\n",
            "Epoch 9/25\n",
            "42/42 [==============================] - 75s 2s/step - loss: 0.5034 - accuracy: 0.7411 - val_loss: 0.5322 - val_accuracy: 0.7500\n",
            "Epoch 10/25\n",
            "42/42 [==============================] - 75s 2s/step - loss: 0.5035 - accuracy: 0.7381 - val_loss: 0.5810 - val_accuracy: 0.6625\n",
            "Epoch 11/25\n",
            "42/42 [==============================] - 75s 2s/step - loss: 0.5069 - accuracy: 0.7202 - val_loss: 0.5225 - val_accuracy: 0.7250\n",
            "Epoch 12/25\n",
            "42/42 [==============================] - 75s 2s/step - loss: 0.4792 - accuracy: 0.7768 - val_loss: 0.5162 - val_accuracy: 0.7500\n",
            "Epoch 13/25\n",
            "42/42 [==============================] - 75s 2s/step - loss: 0.4322 - accuracy: 0.7917 - val_loss: 0.5366 - val_accuracy: 0.7375\n",
            "Epoch 14/25\n",
            "42/42 [==============================] - 76s 2s/step - loss: 0.4261 - accuracy: 0.8065 - val_loss: 0.5433 - val_accuracy: 0.6875\n",
            "Epoch 15/25\n",
            "42/42 [==============================] - 76s 2s/step - loss: 0.4669 - accuracy: 0.7560 - val_loss: 0.5017 - val_accuracy: 0.7375\n",
            "Epoch 16/25\n",
            "42/42 [==============================] - 75s 2s/step - loss: 0.4432 - accuracy: 0.8036 - val_loss: 0.4823 - val_accuracy: 0.7750\n",
            "Epoch 17/25\n",
            "42/42 [==============================] - 75s 2s/step - loss: 0.4063 - accuracy: 0.8065 - val_loss: 0.6004 - val_accuracy: 0.6750\n",
            "Epoch 18/25\n",
            "42/42 [==============================] - 75s 2s/step - loss: 0.3939 - accuracy: 0.8036 - val_loss: 0.6525 - val_accuracy: 0.6625\n",
            "Epoch 19/25\n",
            "42/42 [==============================] - 76s 2s/step - loss: 0.4064 - accuracy: 0.8036 - val_loss: 0.5421 - val_accuracy: 0.7250\n",
            "Epoch 20/25\n",
            "42/42 [==============================] - 75s 2s/step - loss: 0.3313 - accuracy: 0.8512 - val_loss: 0.4816 - val_accuracy: 0.7375\n",
            "Epoch 21/25\n",
            "42/42 [==============================] - 75s 2s/step - loss: 0.3868 - accuracy: 0.8185 - val_loss: 0.4651 - val_accuracy: 0.7875\n",
            "Epoch 22/25\n",
            "42/42 [==============================] - 76s 2s/step - loss: 0.3451 - accuracy: 0.8601 - val_loss: 0.4887 - val_accuracy: 0.7750\n",
            "Epoch 23/25\n",
            "42/42 [==============================] - 76s 2s/step - loss: 0.3832 - accuracy: 0.7917 - val_loss: 0.6016 - val_accuracy: 0.6625\n",
            "Epoch 24/25\n",
            "42/42 [==============================] - 75s 2s/step - loss: 0.3745 - accuracy: 0.8304 - val_loss: 0.4450 - val_accuracy: 0.8250\n",
            "Epoch 25/25\n",
            "42/42 [==============================] - 75s 2s/step - loss: 0.3425 - accuracy: 0.8542 - val_loss: 0.5074 - val_accuracy: 0.7500\n"
          ],
          "name": "stdout"
        }
      ]
    },
    {
      "cell_type": "code",
      "metadata": {
        "id": "-yl0t5cmRVKS",
        "outputId": "702a6fb7-61d2-4c7b-e011-3a143ba51f50",
        "colab": {
          "base_uri": "https://localhost:8080/",
          "height": 34
        }
      },
      "source": [
        "avg = (sum(H.history[\"val_accuracy\"])/len(H.history[\"val_accuracy\"]))\n",
        "avg"
      ],
      "execution_count": null,
      "outputs": [
        {
          "output_type": "execute_result",
          "data": {
            "text/plain": [
              "0.7115000033378601"
            ]
          },
          "metadata": {
            "tags": []
          },
          "execution_count": 31
        }
      ]
    },
    {
      "cell_type": "code",
      "metadata": {
        "id": "kOfo7DmoSUHS",
        "outputId": "87098336-a745-4a91-cb31-c81be4713180",
        "colab": {
          "base_uri": "https://localhost:8080/",
          "height": 68
        }
      },
      "source": [
        "Y_pred = model.predict(validation_data_gen, validation_data_gen.samples // BS+1)\n",
        "y_pred = np.argmax(Y_pred, axis=1)\n",
        "print('Confusion Matrix')\n",
        "print(confusion_matrix(validation_data_gen.classes, y_pred))"
      ],
      "execution_count": null,
      "outputs": [
        {
          "output_type": "stream",
          "text": [
            "Confusion Matrix\n",
            "[[26 20]\n",
            " [28  9]]\n"
          ],
          "name": "stdout"
        }
      ]
    },
    {
      "cell_type": "code",
      "metadata": {
        "id": "LSJFy5SNciAC",
        "outputId": "15975e4d-d0d8-4b59-bd64-00ab670a9c93",
        "colab": {
          "base_uri": "https://localhost:8080/",
          "height": 316
        }
      },
      "source": [
        "# plot the training loss and accuracy\n",
        "N = EPOCHS\n",
        "plt.style.use(\"ggplot\")\n",
        "plt.figure()\n",
        "plt.plot(np.arange(0, N), H.history[\"loss\"], label=\"train_loss\")\n",
        "plt.plot(np.arange(0, N), H.history[\"val_loss\"], label=\"val_loss\")\n",
        "plt.plot(np.arange(0, N), H.history[\"accuracy\"], label=\"train_acc\")\n",
        "plt.plot(np.arange(0, N), H.history[\"val_accuracy\"], label=\"val_acc\")\n",
        "plt.title(\"Training Loss and Accuracy on COVID-19 LBP\")\n",
        "plt.xlabel(\"Epoch #\")\n",
        "plt.ylabel(\"Loss/Accuracy\")\n",
        "plt.legend(loc=\"lower left\")\n",
        "plt.ylim(0.3, 1.0)\n",
        "#plt.savefig(args[\"plot\"])"
      ],
      "execution_count": null,
      "outputs": [
        {
          "output_type": "execute_result",
          "data": {
            "text/plain": [
              "(0.3, 1.0)"
            ]
          },
          "metadata": {
            "tags": []
          },
          "execution_count": 34
        },
        {
          "output_type": "display_data",
          "data": {
            "image/png": "[encoded data removed]",
            "text/plain": [
              "<Figure size 432x288 with 1 Axes>"
            ]
          },
          "metadata": {
            "tags": []
          }
        }
      ]
    },
    {
      "cell_type": "code",
      "metadata": {
        "id": "ub0MTn-NliyV",
        "outputId": "182092e1-fcba-412c-c0b6-a3e8f366b1e6",
        "colab": {
          "base_uri": "https://localhost:8080/",
          "height": 34
        }
      },
      "source": [
        "#  serialize the model to disk\n",
        "# print(\"[INFO] saving COVID-19 detector model...\")\n",
        "# model.save(\"/content/drive/My Drive/COVID-CT/Models/dnsModel.h5\")"
      ],
      "execution_count": null,
      "outputs": [
        {
          "output_type": "stream",
          "text": [
            "[INFO] saving COVID-19 detector model...\n"
          ],
          "name": "stdout"
        }
      ]
    },
    {
      "cell_type": "code",
      "metadata": {
        "id": "_dsDDfNgI72p",
        "outputId": "73dc6ae8-e5d3-488e-9aca-c9b5dd86960d",
        "colab": {
          "base_uri": "https://localhost:8080/",
          "height": 34
        }
      },
      "source": [
        "model_json = model.to_json()\n",
        "with open(\"/content/drive/My Drive/COVID-CT/Models/dnsModel.json\", \"w\") as json_file:\n",
        "    json_file.write(model_json)\n",
        "# serialize weights to HDF5\n",
        "model.save_weights(\"dnsModel.h5\")\n",
        "print(\"Saved model to disk\")"
      ],
      "execution_count": null,
      "outputs": [
        {
          "output_type": "stream",
          "text": [
            "Saved model to disk\n"
          ],
          "name": "stdout"
        }
      ]
    },
    {
      "cell_type": "code",
      "metadata": {
        "id": "cXNin_-B3PAG"
      },
      "source": [
        ""
      ],
      "execution_count": null,
      "outputs": []
    }
  ]
}