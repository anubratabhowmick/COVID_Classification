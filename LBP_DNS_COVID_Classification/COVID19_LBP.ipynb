{
  "nbformat": 4,
  "nbformat_minor": 0,
  "metadata": {
    "colab": {
      "name": "COVID19_LBP.ipynb",
      "provenance": [],
      "collapsed_sections": []
    },
    "kernelspec": {
      "name": "python3",
      "display_name": "Python 3"
    }
  },
  "cells": [
    {
      "cell_type": "code",
      "metadata": {
        "id": "Zm_Rztnvy_dQ",
        "outputId": "c088a06f-7f1c-471a-853a-2b507a0bae33",
        "colab": {
          "base_uri": "https://localhost:8080/",
          "height": 122
        }
      },
      "source": [
        "from google.colab import drive\n",
        "drive.mount('/content/drive')"
      ],
      "execution_count": null,
      "outputs": [
        {
          "output_type": "stream",
          "text": [
            "Go to this URL in a browser: https://accounts.google.com/o/oauth2/auth?client_id=947318989803-6bn6qk8qdgf4n4g3pfee6491hc0brc4i.apps.googleusercontent.com&redirect_uri=urn%3aietf%3awg%3aoauth%3a2.0%3aoob&scope=email%20https%3a%2f%2fwww.googleapis.com%2fauth%2fdocs.test%20https%3a%2f%2fwww.googleapis.com%2fauth%2fdrive%20https%3a%2f%2fwww.googleapis.com%2fauth%2fdrive.photos.readonly%20https%3a%2f%2fwww.googleapis.com%2fauth%2fpeopleapi.readonly&response_type=code\n",
            "\n",
            "Enter your authorization code:\n",
            "··········\n",
            "Mounted at /content/drive\n"
          ],
          "name": "stdout"
        }
      ]
    },
    {
      "cell_type": "code",
      "metadata": {
        "id": "Y-2qWzOW0-YT"
      },
      "source": [
        "from tensorflow.keras.preprocessing.image import ImageDataGenerator\n",
        "from tensorflow.keras.applications import VGG16\n",
        "from tensorflow.keras.layers import AveragePooling2D\n",
        "from tensorflow.keras.layers import Dropout\n",
        "from tensorflow.keras.layers import Flatten\n",
        "from tensorflow.keras.layers import Dense\n",
        "from tensorflow.keras.layers import Input\n",
        "from tensorflow.keras.models import Model\n",
        "from tensorflow.keras.optimizers import Adam\n",
        "from tensorflow.keras.utils import to_categorical\n",
        "from sklearn.preprocessing import LabelBinarizer\n",
        "from sklearn.model_selection import train_test_split\n",
        "from sklearn.metrics import classification_report\n",
        "from sklearn.metrics import confusion_matrix\n",
        "from imutils import paths\n",
        "import matplotlib.pyplot as plt\n",
        "import numpy as np\n",
        "import argparse\n",
        "import cv2\n",
        "import os\n",
        "import glob"
      ],
      "execution_count": null,
      "outputs": []
    },
    {
      "cell_type": "code",
      "metadata": {
        "id": "CYxnt8gN1H1h"
      },
      "source": [
        "#LBP Images Directories\n",
        "# lbpTrainingDir = '/content/drive/My Drive/Advanced Computer Vision/LBP/TrainLBP'\n",
        "\n",
        "# lbpTrainingLabel = '/content/drive/My Drive/Advanced Computer Vision/Labels/trainLabels.txt'\n",
        "\n",
        "trainFolder = '/content/drive/My Drive/COVID-CT/LBP/TrainLBP'\n"
      ],
      "execution_count": null,
      "outputs": []
    },
    {
      "cell_type": "code",
      "metadata": {
        "id": "jf7tWEXU2B7j"
      },
      "source": [
        "# trainDataLBP = []\n",
        "# trainLabel = [] #temporary storage\n",
        "# trainLabelLBP = []\n",
        "\n",
        "INIT_LR = 1e-3\n",
        "EPOCHS = 25\n",
        "BS = 8"
      ],
      "execution_count": null,
      "outputs": []
    },
    {
      "cell_type": "code",
      "metadata": {
        "id": "2aQO4Taf2C5-"
      },
      "source": [
        "# def create_dataset(img_dir_for_read, mode):\n",
        "#     data_path = os.path.join(img_dir_for_read,'*g')\n",
        "#     files = glob.glob(data_path)\n",
        "#     print(len(files))\n",
        "#     for fileName in files:\n",
        "#         image = cv2.imread(fileName)\n",
        "#         image = cv2.cvtColor(image, cv2.COLOR_BGR2RGB)\n",
        "#         image = cv2.resize(image, (224, 224))\n",
        "#         if mode in 'train':\n",
        "#             trainDataLBP.append(image)\n",
        "#         elif mode in 'validation':\n",
        "#             valDataLBP.append(image)\n",
        "#         elif mode in 'test':\n",
        "#             testDataLBP.append(image)"
      ],
      "execution_count": null,
      "outputs": []
    },
    {
      "cell_type": "code",
      "metadata": {
        "id": "-SnTgI4b2Elb",
        "outputId": "1a7a90ba-3ee3-4d46-d2a3-e71ebd686836",
        "colab": {
          "base_uri": "https://localhost:8080/",
          "height": 34
        }
      },
      "source": [
        "# create_dataset(lbpTrainingDir,'train')\n",
        "#trainData"
      ],
      "execution_count": null,
      "outputs": [
        {
          "output_type": "stream",
          "text": [
            "419\n"
          ],
          "name": "stdout"
        }
      ]
    },
    {
      "cell_type": "code",
      "metadata": {
        "id": "olA1zfW32GWz"
      },
      "source": [
        "# f = open(lbpTrainingLabel, \"r\")\n",
        "\n",
        "# for i in f.readlines():\n",
        "#     label = list(i.split(\"\\n\"))\n",
        "#     trainLabel.append(label[0])\n",
        "    \n",
        "# for val in trainLabel:\n",
        "#     trainLabelLBP.append(int(float(val)))\n",
        "    "
      ],
      "execution_count": null,
      "outputs": []
    },
    {
      "cell_type": "code",
      "metadata": {
        "id": "E2LOOElZ2kjG"
      },
      "source": [
        "# trainDataLBP = np.array(trainDataLBP) / 255.0\n",
        "# trainLabelLBP  = np.array(trainLabelLBP)"
      ],
      "execution_count": null,
      "outputs": []
    },
    {
      "cell_type": "code",
      "metadata": {
        "id": "zDtLdljr2s6O",
        "outputId": "f00700fe-f75c-4bdb-8f55-c47a1b953155",
        "colab": {
          "base_uri": "https://localhost:8080/",
          "height": 51
        }
      },
      "source": [
        "# print(len(trainDataLBP))\n",
        "# print(len(trainLabelLBP))"
      ],
      "execution_count": null,
      "outputs": [
        {
          "output_type": "stream",
          "text": [
            "419\n",
            "419\n"
          ],
          "name": "stdout"
        }
      ]
    },
    {
      "cell_type": "code",
      "metadata": {
        "id": "ZTdE0KL02usU"
      },
      "source": [
        "# lb = LabelBinarizer()\n",
        "# trainLabelLBP = lb.fit_transform(trainLabelLBP)\n",
        "# trainLabelLBP = to_categorical(trainLabelLBP)\n",
        "# trainLabelLBP"
      ],
      "execution_count": null,
      "outputs": []
    },
    {
      "cell_type": "code",
      "metadata": {
        "id": "0JnuJNP322vs"
      },
      "source": [
        "# trainX, testX, trainY, testY = train_test_split(trainDataLBP, trainLabelLBP, shuffle=True, test_size=0.20, random_state=42)\n"
      ],
      "execution_count": null,
      "outputs": []
    },
    {
      "cell_type": "code",
      "metadata": {
        "id": "1CGIooW4SJm0"
      },
      "source": [
        "train_image_generator = ImageDataGenerator(rescale=1./255, validation_split=0.2)"
      ],
      "execution_count": null,
      "outputs": []
    },
    {
      "cell_type": "code",
      "metadata": {
        "id": "7AP8cIX325ha"
      },
      "source": [
        "# trainAug = ImageDataGenerator(\n",
        "#     trainFolder,\n",
        "#     #rotation_range=15, \n",
        "#     fill_mode=\"nearest\")"
      ],
      "execution_count": null,
      "outputs": []
    },
    {
      "cell_type": "code",
      "metadata": {
        "id": "KnYzcKaCRsya",
        "outputId": "67ccbe64-880d-4553-bcb5-1811e06c4dad",
        "colab": {
          "base_uri": "https://localhost:8080/",
          "height": 51
        }
      },
      "source": [
        "train_data_gen = train_image_generator.flow_from_directory(batch_size=BS,\n",
        "                                                           directory = trainFolder,\n",
        "                                                           shuffle=True,\n",
        "                                                           target_size=(255, 255),\n",
        "                                                           class_mode='categorical',\n",
        "                                                           subset='training')\n",
        "\n",
        "validation_data_gen = train_image_generator.flow_from_directory(batch_size=BS,\n",
        "                                                           directory = trainFolder,\n",
        "                                                           shuffle=True,\n",
        "                                                           target_size=(255, 255),\n",
        "                                                           class_mode='categorical',\n",
        "                                                           subset='validation')"
      ],
      "execution_count": null,
      "outputs": [
        {
          "output_type": "stream",
          "text": [
            "Found 336 images belonging to 2 classes.\n",
            "Found 83 images belonging to 2 classes.\n"
          ],
          "name": "stdout"
        }
      ]
    },
    {
      "cell_type": "code",
      "metadata": {
        "id": "iVSKO7043HT5",
        "outputId": "c330b435-577c-4941-81e2-8bacac54c4bd",
        "colab": {
          "base_uri": "https://localhost:8080/",
          "height": 71
        }
      },
      "source": [
        "baseModel = VGG16(weights=\"imagenet\", include_top=False, input_tensor=Input(shape=(224, 224, 3)))\n",
        "\n",
        "headModel = baseModel.output\n",
        "headModel = AveragePooling2D(pool_size=(4, 4))(headModel)\n",
        "headModel = Flatten(name=\"flatten\")(headModel)\n",
        "headModel = Dense(64, activation=\"relu\")(headModel)\n",
        "headModel = Dropout(0.2)(headModel)\n",
        "headModel = Dense(2, activation=\"softmax\")(headModel)\n",
        "\n",
        "model = Model(inputs=baseModel.input, outputs=headModel)\n",
        "\n",
        "for layer in baseModel.layers:\n",
        "    layer.trainable = False"
      ],
      "execution_count": null,
      "outputs": [
        {
          "output_type": "stream",
          "text": [
            "Downloading data from https://storage.googleapis.com/tensorflow/keras-applications/vgg16/vgg16_weights_tf_dim_ordering_tf_kernels_notop.h5\n",
            "58892288/58889256 [==============================] - 1s 0us/step\n"
          ],
          "name": "stdout"
        }
      ]
    },
    {
      "cell_type": "code",
      "metadata": {
        "id": "Qpbu5ZC33N96",
        "outputId": "81427e8e-0072-439c-930b-37769be37c50",
        "colab": {
          "base_uri": "https://localhost:8080/",
          "height": 921
        }
      },
      "source": [
        "print(\"[INFO] compiling model...\")\n",
        "opt = Adam(lr=INIT_LR, decay=INIT_LR / EPOCHS)\n",
        "model.compile(loss=\"binary_crossentropy\", optimizer=opt, metrics=[\"accuracy\"])\n",
        "\n",
        "# train the head of the network\n",
        "print(\"[INFO] training head...\")\n",
        "# H = model.fit(trainAug.flow(trainX, trainY, batch_size=BS), steps_per_epoch=len(trainX)/10, validation_data=(testX, testY), validation_steps=len(testX)/10, epochs=10)\n",
        "H = model.fit(train_data_gen, steps_per_epoch=train_data_gen.samples//BS, validation_data=validation_data_gen, validation_steps=validation_data_gen.samples//BS, epochs = EPOCHS)\n"
      ],
      "execution_count": null,
      "outputs": [
        {
          "output_type": "stream",
          "text": [
            "[INFO] compiling model...\n",
            "[INFO] training head...\n",
            "Epoch 1/25\n",
            "42/42 [==============================] - 303s 7s/step - loss: 0.6712 - accuracy: 0.6250 - val_loss: 0.7534 - val_accuracy: 0.4500\n",
            "Epoch 2/25\n",
            "42/42 [==============================] - 255s 6s/step - loss: 0.5966 - accuracy: 0.6756 - val_loss: 0.7019 - val_accuracy: 0.5375\n",
            "Epoch 3/25\n",
            "42/42 [==============================] - 259s 6s/step - loss: 0.5507 - accuracy: 0.7202 - val_loss: 0.6698 - val_accuracy: 0.6625\n",
            "Epoch 4/25\n",
            "42/42 [==============================] - 255s 6s/step - loss: 0.5363 - accuracy: 0.7500 - val_loss: 0.6554 - val_accuracy: 0.6000\n",
            "Epoch 5/25\n",
            "42/42 [==============================] - 259s 6s/step - loss: 0.5269 - accuracy: 0.7173 - val_loss: 0.5569 - val_accuracy: 0.6875\n",
            "Epoch 6/25\n",
            "42/42 [==============================] - 254s 6s/step - loss: 0.4927 - accuracy: 0.7679 - val_loss: 0.6165 - val_accuracy: 0.6625\n",
            "Epoch 7/25\n",
            "42/42 [==============================] - 259s 6s/step - loss: 0.4575 - accuracy: 0.7946 - val_loss: 0.5689 - val_accuracy: 0.6750\n",
            "Epoch 8/25\n",
            "42/42 [==============================] - 254s 6s/step - loss: 0.4600 - accuracy: 0.7708 - val_loss: 0.5759 - val_accuracy: 0.7000\n",
            "Epoch 9/25\n",
            "42/42 [==============================] - 254s 6s/step - loss: 0.4294 - accuracy: 0.8095 - val_loss: 0.5180 - val_accuracy: 0.7375\n",
            "Epoch 10/25\n",
            "42/42 [==============================] - 259s 6s/step - loss: 0.4627 - accuracy: 0.7768 - val_loss: 0.5069 - val_accuracy: 0.7625\n",
            "Epoch 11/25\n",
            "42/42 [==============================] - 254s 6s/step - loss: 0.4060 - accuracy: 0.8036 - val_loss: 0.5232 - val_accuracy: 0.7375\n",
            "Epoch 12/25\n",
            "42/42 [==============================] - 254s 6s/step - loss: 0.3830 - accuracy: 0.8185 - val_loss: 0.4840 - val_accuracy: 0.7500\n",
            "Epoch 13/25\n",
            "42/42 [==============================] - 254s 6s/step - loss: 0.3646 - accuracy: 0.8244 - val_loss: 0.4692 - val_accuracy: 0.7625\n",
            "Epoch 14/25\n",
            "42/42 [==============================] - 253s 6s/step - loss: 0.3682 - accuracy: 0.8423 - val_loss: 0.5426 - val_accuracy: 0.7125\n",
            "Epoch 15/25\n",
            "42/42 [==============================] - 254s 6s/step - loss: 0.3780 - accuracy: 0.8125 - val_loss: 0.5220 - val_accuracy: 0.7250\n",
            "Epoch 16/25\n",
            "42/42 [==============================] - 258s 6s/step - loss: 0.3382 - accuracy: 0.8482 - val_loss: 0.4971 - val_accuracy: 0.7500\n",
            "Epoch 17/25\n",
            "42/42 [==============================] - 254s 6s/step - loss: 0.3492 - accuracy: 0.8333 - val_loss: 0.4898 - val_accuracy: 0.7250\n",
            "Epoch 18/25\n",
            "42/42 [==============================] - 259s 6s/step - loss: 0.3527 - accuracy: 0.8304 - val_loss: 0.4769 - val_accuracy: 0.7250\n",
            "Epoch 19/25\n",
            "42/42 [==============================] - 254s 6s/step - loss: 0.3325 - accuracy: 0.8482 - val_loss: 0.4602 - val_accuracy: 0.8125\n",
            "Epoch 20/25\n",
            "42/42 [==============================] - 254s 6s/step - loss: 0.3085 - accuracy: 0.8750 - val_loss: 0.4625 - val_accuracy: 0.7625\n",
            "Epoch 21/25\n",
            "42/42 [==============================] - 260s 6s/step - loss: 0.3103 - accuracy: 0.8601 - val_loss: 0.4037 - val_accuracy: 0.8500\n",
            "Epoch 22/25\n",
            "42/42 [==============================] - 254s 6s/step - loss: 0.2927 - accuracy: 0.8661 - val_loss: 0.4677 - val_accuracy: 0.7500\n",
            "Epoch 23/25\n",
            "42/42 [==============================] - 258s 6s/step - loss: 0.2807 - accuracy: 0.8750 - val_loss: 0.4342 - val_accuracy: 0.8125\n",
            "Epoch 24/25\n",
            "42/42 [==============================] - 253s 6s/step - loss: 0.3032 - accuracy: 0.8661 - val_loss: 0.4411 - val_accuracy: 0.8250\n",
            "Epoch 25/25\n",
            "42/42 [==============================] - 259s 6s/step - loss: 0.2766 - accuracy: 0.8750 - val_loss: 0.5057 - val_accuracy: 0.7875\n"
          ],
          "name": "stdout"
        }
      ]
    },
    {
      "cell_type": "code",
      "metadata": {
        "id": "M98w_P9m3Rf3",
        "outputId": "4115ef99-aa01-42a6-8d30-278be1ce4e63",
        "colab": {
          "base_uri": "https://localhost:8080/",
          "height": 34
        }
      },
      "source": [
        "avg = (sum(H.history[\"val_accuracy\"])/len(H.history[\"val_accuracy\"]))\n",
        "avg"
      ],
      "execution_count": null,
      "outputs": [
        {
          "output_type": "execute_result",
          "data": {
            "text/plain": [
              "0.7185000061988831"
            ]
          },
          "metadata": {
            "tags": []
          },
          "execution_count": 9
        }
      ]
    },
    {
      "cell_type": "code",
      "metadata": {
        "id": "-SVZwEsV3nnu",
        "outputId": "a7974cbe-f520-4ac3-fa78-dd25e8e4348c",
        "colab": {
          "base_uri": "https://localhost:8080/",
          "height": 68
        }
      },
      "source": [
        "Y_pred = model.predict(validation_data_gen, validation_data_gen.samples // BS+1)\n",
        "y_pred = np.argmax(Y_pred, axis=1)\n",
        "print('Confusion Matrix')\n",
        "print(confusion_matrix(validation_data_gen.classes, y_pred))"
      ],
      "execution_count": null,
      "outputs": [
        {
          "output_type": "stream",
          "text": [
            "Confusion Matrix\n",
            "[[34 12]\n",
            " [29  8]]\n"
          ],
          "name": "stdout"
        }
      ]
    },
    {
      "cell_type": "code",
      "metadata": {
        "id": "dAGKwA1C3pkM",
        "outputId": "b7796317-e71d-4caf-d800-566a61cef285",
        "colab": {
          "base_uri": "https://localhost:8080/",
          "height": 316
        }
      },
      "source": [
        "# plot the training loss and accuracy\n",
        "N = EPOCHS\n",
        "plt.style.use(\"ggplot\")\n",
        "plt.figure()\n",
        "plt.plot(np.arange(0, N), H.history[\"loss\"], label=\"train_loss\")\n",
        "plt.plot(np.arange(0, N), H.history[\"val_loss\"], label=\"val_loss\")\n",
        "plt.plot(np.arange(0, N), H.history[\"accuracy\"], label=\"train_acc\")\n",
        "plt.plot(np.arange(0, N), H.history[\"val_accuracy\"], label=\"val_acc\")\n",
        "plt.title(\"Training Loss and Accuracy on COVID-19 LBP\")\n",
        "plt.xlabel(\"Epoch #\")\n",
        "plt.ylabel(\"Loss/Accuracy\")\n",
        "plt.legend(loc=\"lower left\")\n",
        "#plt.savefig(args[\"plot\"])"
      ],
      "execution_count": null,
      "outputs": [
        {
          "output_type": "execute_result",
          "data": {
            "text/plain": [
              "<matplotlib.legend.Legend at 0x7f0ffab0fba8>"
            ]
          },
          "metadata": {
            "tags": []
          },
          "execution_count": 11
        },
        {
          "output_type": "display_data",
          "data": {
            "image/png": "[encoded data removed]",
            "text/plain": [
              "<Figure size 432x288 with 1 Axes>"
            ]
          },
          "metadata": {
            "tags": []
          }
        }
      ]
    },
    {
      "cell_type": "code",
      "metadata": {
        "id": "y1IkgNxY3rTA",
        "outputId": "91f914e3-fc24-4bd5-cb4d-cadaf0fcb7ad",
        "colab": {
          "base_uri": "https://localhost:8080/",
          "height": 34
        }
      },
      "source": [
        "# serialize the model to disk\n",
        "# print(\"[INFO] saving COVID-19 detector model...\")\n",
        "# model.save(\"/content/drive/My Drive/COVID-CT/Models/lbpModel.h5\")"
      ],
      "execution_count": null,
      "outputs": [
        {
          "output_type": "stream",
          "text": [
            "[INFO] saving COVID-19 detector model...\n"
          ],
          "name": "stdout"
        }
      ]
    },
    {
      "cell_type": "code",
      "metadata": {
        "id": "w5jm0nIv3sye",
        "outputId": "953839d5-3286-4ccc-f17a-31e975e0f286",
        "colab": {
          "base_uri": "https://localhost:8080/",
          "height": 34
        }
      },
      "source": [
        "model_json = model.to_json()\n",
        "with open(\"/content/drive/My Drive/COVID-CT/Models/lbpModel.json\", \"w\") as json_file:\n",
        "    json_file.write(model_json)\n",
        "# serialize weights to HDF5\n",
        "model.save_weights(\"lbpModel.h5\")\n",
        "print(\"Saved model to disk\")"
      ],
      "execution_count": null,
      "outputs": [
        {
          "output_type": "stream",
          "text": [
            "Saved model to disk\n"
          ],
          "name": "stdout"
        }
      ]
    },
    {
      "cell_type": "code",
      "metadata": {
        "id": "CmGKunGd2zwO"
      },
      "source": [
        "avg = (sum(H.history[\"val_loss\"])/len(H.history[\"val_loss\"]))"
      ],
      "execution_count": null,
      "outputs": []
    },
    {
      "cell_type": "code",
      "metadata": {
        "id": "6YdlsSEWX2ct",
        "outputId": "9c0ac643-4b55-4e77-c880-a9ca1121ae91",
        "colab": {
          "base_uri": "https://localhost:8080/",
          "height": 34
        }
      },
      "source": [
        "avg"
      ],
      "execution_count": null,
      "outputs": [
        {
          "output_type": "execute_result",
          "data": {
            "text/plain": [
              "0.5743031811714172"
            ]
          },
          "metadata": {
            "tags": []
          },
          "execution_count": 60
        }
      ]
    },
    {
      "cell_type": "code",
      "metadata": {
        "id": "iN5wy2VfX8ov",
        "outputId": "2e235457-2794-4d02-aea4-23a211aa8605",
        "colab": {
          "base_uri": "https://localhost:8080/",
          "height": 164
        }
      },
      "source": [
        "  avg = (sum(H.history[\"val_accuracy\"])/len(H.history[\"val_accuracy\"]))"
      ],
      "execution_count": null,
      "outputs": [
        {
          "output_type": "error",
          "ename": "NameError",
          "evalue": "ignored",
          "traceback": [
            "\u001b[0;31m---------------------------------------------------------------------------\u001b[0m",
            "\u001b[0;31mNameError\u001b[0m                                 Traceback (most recent call last)",
            "\u001b[0;32m<ipython-input-1-82056f316d75>\u001b[0m in \u001b[0;36m<module>\u001b[0;34m()\u001b[0m\n\u001b[0;32m----> 1\u001b[0;31m \u001b[0mavg\u001b[0m \u001b[0;34m=\u001b[0m \u001b[0;34m(\u001b[0m\u001b[0msum\u001b[0m\u001b[0;34m(\u001b[0m\u001b[0mH\u001b[0m\u001b[0;34m.\u001b[0m\u001b[0mhistory\u001b[0m\u001b[0;34m[\u001b[0m\u001b[0;34m\"val_accuracy\"\u001b[0m\u001b[0;34m]\u001b[0m\u001b[0;34m)\u001b[0m\u001b[0;34m/\u001b[0m\u001b[0mlen\u001b[0m\u001b[0;34m(\u001b[0m\u001b[0mH\u001b[0m\u001b[0;34m.\u001b[0m\u001b[0mhistory\u001b[0m\u001b[0;34m[\u001b[0m\u001b[0;34m\"val_accuracy\"\u001b[0m\u001b[0;34m]\u001b[0m\u001b[0;34m)\u001b[0m\u001b[0;34m)\u001b[0m\u001b[0;34m\u001b[0m\u001b[0;34m\u001b[0m\u001b[0m\n\u001b[0m",
            "\u001b[0;31mNameError\u001b[0m: name 'H' is not defined"
          ]
        }
      ]
    },
    {
      "cell_type": "code",
      "metadata": {
        "id": "RpsoPvw3mQ6D"
      },
      "source": [
        ""
      ],
      "execution_count": null,
      "outputs": []
    }
  ]
}