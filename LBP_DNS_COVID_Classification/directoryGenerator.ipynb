{
 "cells": [
  {
   "cell_type": "code",
   "execution_count": 1,
   "metadata": {},
   "outputs": [],
   "source": [
    "import numpy as np\n",
    "import os\n",
    "import cv2\n",
    "import time as time\n",
    "import random as rand"
   ]
  },
  {
   "cell_type": "code",
   "execution_count": 2,
   "metadata": {},
   "outputs": [
    {
     "ename": "OSError",
     "evalue": "D:\\Q4\\CV\\COVID-CT\\Data-split\\COVID\\trainCT_COVID.txt not found.",
     "output_type": "error",
     "traceback": [
      "\u001b[1;31m---------------------------------------------------------------------------\u001b[0m",
      "\u001b[1;31mOSError\u001b[0m                                   Traceback (most recent call last)",
      "\u001b[1;32m<ipython-input-2-3bd341fa5f44>\u001b[0m in \u001b[0;36m<module>\u001b[1;34m\u001b[0m\n\u001b[0;32m      4\u001b[0m \u001b[0mNonCovidNamesPath\u001b[0m \u001b[1;33m=\u001b[0m \u001b[0mmainDir\u001b[0m \u001b[1;33m+\u001b[0m \u001b[1;34m\"\\\\Data-split\\\\NonCOVID\"\u001b[0m\u001b[1;33m\u001b[0m\u001b[1;33m\u001b[0m\u001b[0m\n\u001b[0;32m      5\u001b[0m \u001b[1;33m\u001b[0m\u001b[0m\n\u001b[1;32m----> 6\u001b[1;33m \u001b[0mtrainNamesCovid\u001b[0m \u001b[1;33m=\u001b[0m \u001b[0mnp\u001b[0m\u001b[1;33m.\u001b[0m\u001b[0mloadtxt\u001b[0m\u001b[1;33m(\u001b[0m\u001b[0mCovidNamesPath\u001b[0m\u001b[1;33m+\u001b[0m\u001b[1;34m\"\\\\trainCT_COVID.txt\"\u001b[0m \u001b[1;33m,\u001b[0m \u001b[0mdelimiter\u001b[0m\u001b[1;33m=\u001b[0m\u001b[1;34m\"\\t\"\u001b[0m\u001b[1;33m,\u001b[0m\u001b[0mdtype\u001b[0m\u001b[1;33m=\u001b[0m\u001b[1;34m'str'\u001b[0m\u001b[1;33m)\u001b[0m\u001b[1;33m\u001b[0m\u001b[1;33m\u001b[0m\u001b[0m\n\u001b[0m\u001b[0;32m      7\u001b[0m \u001b[0mvalNamesCovid\u001b[0m \u001b[1;33m=\u001b[0m \u001b[0mnp\u001b[0m\u001b[1;33m.\u001b[0m\u001b[0mloadtxt\u001b[0m\u001b[1;33m(\u001b[0m\u001b[0mCovidNamesPath\u001b[0m\u001b[1;33m+\u001b[0m\u001b[1;34m\"\\\\valCT_COVID.txt\"\u001b[0m \u001b[1;33m,\u001b[0m \u001b[0mdelimiter\u001b[0m\u001b[1;33m=\u001b[0m\u001b[1;34m\"\\t\"\u001b[0m\u001b[1;33m,\u001b[0m\u001b[0mdtype\u001b[0m\u001b[1;33m=\u001b[0m\u001b[1;34m'str'\u001b[0m\u001b[1;33m)\u001b[0m\u001b[1;33m\u001b[0m\u001b[1;33m\u001b[0m\u001b[0m\n\u001b[0;32m      8\u001b[0m \u001b[0mtestNamesCovid\u001b[0m \u001b[1;33m=\u001b[0m \u001b[0mnp\u001b[0m\u001b[1;33m.\u001b[0m\u001b[0mloadtxt\u001b[0m\u001b[1;33m(\u001b[0m\u001b[0mCovidNamesPath\u001b[0m\u001b[1;33m+\u001b[0m\u001b[1;34m\"\\\\testCT_COVID.txt\"\u001b[0m \u001b[1;33m,\u001b[0m \u001b[0mdelimiter\u001b[0m\u001b[1;33m=\u001b[0m\u001b[1;34m\"\\t\"\u001b[0m\u001b[1;33m,\u001b[0m\u001b[0mdtype\u001b[0m\u001b[1;33m=\u001b[0m\u001b[1;34m'str'\u001b[0m\u001b[1;33m)\u001b[0m\u001b[1;33m\u001b[0m\u001b[1;33m\u001b[0m\u001b[0m\n",
      "\u001b[1;32mC:\\Anaconda\\lib\\site-packages\\numpy\\lib\\npyio.py\u001b[0m in \u001b[0;36mloadtxt\u001b[1;34m(fname, dtype, comments, delimiter, converters, skiprows, usecols, unpack, ndmin, encoding, max_rows)\u001b[0m\n\u001b[0;32m    960\u001b[0m             \u001b[0mfname\u001b[0m \u001b[1;33m=\u001b[0m \u001b[0mos_fspath\u001b[0m\u001b[1;33m(\u001b[0m\u001b[0mfname\u001b[0m\u001b[1;33m)\u001b[0m\u001b[1;33m\u001b[0m\u001b[1;33m\u001b[0m\u001b[0m\n\u001b[0;32m    961\u001b[0m         \u001b[1;32mif\u001b[0m \u001b[0m_is_string_like\u001b[0m\u001b[1;33m(\u001b[0m\u001b[0mfname\u001b[0m\u001b[1;33m)\u001b[0m\u001b[1;33m:\u001b[0m\u001b[1;33m\u001b[0m\u001b[1;33m\u001b[0m\u001b[0m\n\u001b[1;32m--> 962\u001b[1;33m             \u001b[0mfh\u001b[0m \u001b[1;33m=\u001b[0m \u001b[0mnp\u001b[0m\u001b[1;33m.\u001b[0m\u001b[0mlib\u001b[0m\u001b[1;33m.\u001b[0m\u001b[0m_datasource\u001b[0m\u001b[1;33m.\u001b[0m\u001b[0mopen\u001b[0m\u001b[1;33m(\u001b[0m\u001b[0mfname\u001b[0m\u001b[1;33m,\u001b[0m \u001b[1;34m'rt'\u001b[0m\u001b[1;33m,\u001b[0m \u001b[0mencoding\u001b[0m\u001b[1;33m=\u001b[0m\u001b[0mencoding\u001b[0m\u001b[1;33m)\u001b[0m\u001b[1;33m\u001b[0m\u001b[1;33m\u001b[0m\u001b[0m\n\u001b[0m\u001b[0;32m    963\u001b[0m             \u001b[0mfencoding\u001b[0m \u001b[1;33m=\u001b[0m \u001b[0mgetattr\u001b[0m\u001b[1;33m(\u001b[0m\u001b[0mfh\u001b[0m\u001b[1;33m,\u001b[0m \u001b[1;34m'encoding'\u001b[0m\u001b[1;33m,\u001b[0m \u001b[1;34m'latin1'\u001b[0m\u001b[1;33m)\u001b[0m\u001b[1;33m\u001b[0m\u001b[1;33m\u001b[0m\u001b[0m\n\u001b[0;32m    964\u001b[0m             \u001b[0mfh\u001b[0m \u001b[1;33m=\u001b[0m \u001b[0miter\u001b[0m\u001b[1;33m(\u001b[0m\u001b[0mfh\u001b[0m\u001b[1;33m)\u001b[0m\u001b[1;33m\u001b[0m\u001b[1;33m\u001b[0m\u001b[0m\n",
      "\u001b[1;32mC:\\Anaconda\\lib\\site-packages\\numpy\\lib\\_datasource.py\u001b[0m in \u001b[0;36mopen\u001b[1;34m(path, mode, destpath, encoding, newline)\u001b[0m\n\u001b[0;32m    264\u001b[0m \u001b[1;33m\u001b[0m\u001b[0m\n\u001b[0;32m    265\u001b[0m     \u001b[0mds\u001b[0m \u001b[1;33m=\u001b[0m \u001b[0mDataSource\u001b[0m\u001b[1;33m(\u001b[0m\u001b[0mdestpath\u001b[0m\u001b[1;33m)\u001b[0m\u001b[1;33m\u001b[0m\u001b[1;33m\u001b[0m\u001b[0m\n\u001b[1;32m--> 266\u001b[1;33m     \u001b[1;32mreturn\u001b[0m \u001b[0mds\u001b[0m\u001b[1;33m.\u001b[0m\u001b[0mopen\u001b[0m\u001b[1;33m(\u001b[0m\u001b[0mpath\u001b[0m\u001b[1;33m,\u001b[0m \u001b[0mmode\u001b[0m\u001b[1;33m,\u001b[0m \u001b[0mencoding\u001b[0m\u001b[1;33m=\u001b[0m\u001b[0mencoding\u001b[0m\u001b[1;33m,\u001b[0m \u001b[0mnewline\u001b[0m\u001b[1;33m=\u001b[0m\u001b[0mnewline\u001b[0m\u001b[1;33m)\u001b[0m\u001b[1;33m\u001b[0m\u001b[1;33m\u001b[0m\u001b[0m\n\u001b[0m\u001b[0;32m    267\u001b[0m \u001b[1;33m\u001b[0m\u001b[0m\n\u001b[0;32m    268\u001b[0m \u001b[1;33m\u001b[0m\u001b[0m\n",
      "\u001b[1;32mC:\\Anaconda\\lib\\site-packages\\numpy\\lib\\_datasource.py\u001b[0m in \u001b[0;36mopen\u001b[1;34m(self, path, mode, encoding, newline)\u001b[0m\n\u001b[0;32m    622\u001b[0m                                       encoding=encoding, newline=newline)\n\u001b[0;32m    623\u001b[0m         \u001b[1;32melse\u001b[0m\u001b[1;33m:\u001b[0m\u001b[1;33m\u001b[0m\u001b[1;33m\u001b[0m\u001b[0m\n\u001b[1;32m--> 624\u001b[1;33m             \u001b[1;32mraise\u001b[0m \u001b[0mIOError\u001b[0m\u001b[1;33m(\u001b[0m\u001b[1;34m\"%s not found.\"\u001b[0m \u001b[1;33m%\u001b[0m \u001b[0mpath\u001b[0m\u001b[1;33m)\u001b[0m\u001b[1;33m\u001b[0m\u001b[1;33m\u001b[0m\u001b[0m\n\u001b[0m\u001b[0;32m    625\u001b[0m \u001b[1;33m\u001b[0m\u001b[0m\n\u001b[0;32m    626\u001b[0m \u001b[1;33m\u001b[0m\u001b[0m\n",
      "\u001b[1;31mOSError\u001b[0m: D:\\Q4\\CV\\COVID-CT\\Data-split\\COVID\\trainCT_COVID.txt not found."
     ]
    }
   ],
   "source": [
    "mainDir = \"D:\\\\Q4\\\\CV\\\\COVID-CT\"\n",
    "\n",
    "CovidNamesPath = mainDir + \"\\\\Data-split\\\\COVID\"\n",
    "NonCovidNamesPath = mainDir + \"\\\\Data-split\\\\NonCOVID\"\n",
    "\n",
    "trainNamesCovid = np.loadtxt(CovidNamesPath+\"\\\\trainCT_COVID.txt\" , delimiter=\"\\t\",dtype='str')\n",
    "valNamesCovid = np.loadtxt(CovidNamesPath+\"\\\\valCT_COVID.txt\" , delimiter=\"\\t\",dtype='str')\n",
    "testNamesCovid = np.loadtxt(CovidNamesPath+\"\\\\testCT_COVID.txt\" , delimiter=\"\\t\",dtype='str')\n",
    "\n",
    "trainNamesNonCovid=np.loadtxt(NonCovidNamesPath+\"\\\\trainCT_NonCOVID.txt\" , delimiter=\"\\t\",dtype='str')\n",
    "valNamesNonCovid=np.loadtxt(NonCovidNamesPath+\"\\\\valCT_NonCOVID.txt\" , delimiter=\"\\t\",dtype='str')\n",
    "testNamesNonCovid=np.loadtxt(NonCovidNamesPath+\"\\\\testCT_NonCOVID.txt\" , delimiter=\"\\t\",dtype='str')"
   ]
  },
  {
   "cell_type": "code",
   "execution_count": 40,
   "metadata": {},
   "outputs": [],
   "source": [
    "trainDir=\"D:\\\\Q4\\\\CV\\\\COVID-CT\\\\Train\"\n",
    "valDir=\"D:\\\\Q4\\\\CV\\\\COVID-CT\\\\Validation\"\n",
    "testDir=\"D:\\\\Q4\\\\CV\\\\COVID-CT\\\\Test\"\n",
    "\n",
    "trainLabels=[]\n",
    "valLabels=[]\n",
    "testLabels=[]\n",
    "\n",
    "def generateDir(givenDir):\n",
    "    path=os.walk(givenDir)\n",
    "    global trainCounter, valCounter, testCounter\n",
    "    for file in path:\n",
    "        temp=file[2]\n",
    "        for val in temp:\n",
    "            if(val in list(trainNamesCovid)):\n",
    "                image=cv2.imread(givenDir+\"\\\\\"+val)\n",
    "                cv2.imwrite(trainDir+\"\\\\\"+str(trainCounter)+\".png\",image)\n",
    "                trainCounter=1+trainCounter\n",
    "                trainLabels.append(1)\n",
    "            elif(val in list(valNamesCovid)):\n",
    "                image=cv2.imread(givenDir+\"\\\\\"+val)\n",
    "                cv2.imwrite(valDir+\"\\\\\"+str(valCounter)+\".png\",image)\n",
    "                valCounter=1+valCounter\n",
    "                valLabels.append(1)\n",
    "            elif(val in list(testNamesCovid)):\n",
    "                image=cv2.imread(givenDir+\"\\\\\"+val)\n",
    "                cv2.imwrite(testDir+\"\\\\\"+str(testCounter)+\".png\",image)\n",
    "                testCounter=1+testCounter\n",
    "                testLabels.append(1)\n",
    "            elif(val in list(trainNamesNonCovid)):\n",
    "                image=cv2.imread(givenDir+\"\\\\\"+val)\n",
    "                cv2.imwrite(trainDir+\"\\\\\"+str(trainCounter)+\".png\",image)\n",
    "                trainCounter=1+trainCounter\n",
    "                valLabels.append(0)\n",
    "            elif(val in list(valNamesNonCovid)):\n",
    "                image=cv2.imread(givenDir+\"\\\\\"+val)\n",
    "                cv2.imwrite(valDir+\"\\\\\"+str(valCounter)+\".png\",image)\n",
    "                valCounter=1+valCounter\n",
    "                valLabels.append(0)\n",
    "            elif(val in list(testNamesNonCovid)):\n",
    "                image=cv2.imread(givenDir+\"\\\\\"+val)\n",
    "                cv2.imwrite(testDir+\"\\\\\"+str(testCounter)+\".png\",image)\n",
    "                testCounter=1+testCounter\n",
    "                testLabels.append(0)\n",
    "            \n",
    "imagesCovidPath=\"D:\\\\Q4\\\\CV\\\\COVID-CT\\\\Images-processed\\\\CT_COVID\\\\CT_COVID\"\n",
    "imagesNonCovidPath=\"D:\\Q4\\CV\\COVID-CT\\Images-processed\\CT_NonCOVID\\CT_NonCOVID\"\n",
    "\n",
    "trainCounter=0\n",
    "valCounter=0\n",
    "testCounter=0\n",
    "generateDir(imagesCovidPath)\n",
    "generateDir(imagesNonCovidPath)\n",
    "np.savetxt(mainDir+\"\\\\trainLabels.txt\",trainLabels)\n",
    "np.savetxt(mainDir+\"\\\\valLabels.txt\",valLabels)\n",
    "np.savetxt(mainDir+\"\\\\testLabels.txt\",testLabels)"
   ]
  },
  {
   "cell_type": "code",
   "execution_count": null,
   "metadata": {},
   "outputs": [],
   "source": []
  },
  {
   "cell_type": "code",
   "execution_count": null,
   "metadata": {},
   "outputs": [],
   "source": []
  },
  {
   "cell_type": "code",
   "execution_count": null,
   "metadata": {},
   "outputs": [],
   "source": []
  },
  {
   "cell_type": "code",
   "execution_count": null,
   "metadata": {},
   "outputs": [],
   "source": []
  },
  {
   "cell_type": "code",
   "execution_count": null,
   "metadata": {},
   "outputs": [],
   "source": []
  },
  {
   "cell_type": "code",
   "execution_count": null,
   "metadata": {},
   "outputs": [],
   "source": []
  },
  {
   "cell_type": "code",
   "execution_count": null,
   "metadata": {},
   "outputs": [],
   "source": []
  },
  {
   "cell_type": "code",
   "execution_count": null,
   "metadata": {},
   "outputs": [],
   "source": []
  },
  {
   "cell_type": "code",
   "execution_count": null,
   "metadata": {},
   "outputs": [],
   "source": []
  },
  {
   "cell_type": "code",
   "execution_count": null,
   "metadata": {},
   "outputs": [],
   "source": []
  }
 ],
 "metadata": {
  "kernelspec": {
   "display_name": "Python 3",
   "language": "python",
   "name": "python3"
  },
  "language_info": {
   "codemirror_mode": {
    "name": "ipython",
    "version": 3
   },
   "file_extension": ".py",
   "mimetype": "text/x-python",
   "name": "python",
   "nbconvert_exporter": "python",
   "pygments_lexer": "ipython3",
   "version": "3.7.3"
  }
 },
 "nbformat": 4,
 "nbformat_minor": 2
}
