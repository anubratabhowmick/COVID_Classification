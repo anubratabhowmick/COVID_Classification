{
  "nbformat": 4,
  "nbformat_minor": 0,
  "metadata": {
    "colab": {
      "name": "COVID-19_Normal.ipynb",
      "provenance": []
    },
    "kernelspec": {
      "name": "python3",
      "display_name": "Python 3"
    }
  },
  "cells": [
    {
      "cell_type": "code",
      "metadata": {
        "id": "Ya6qm-62icAR",
        "outputId": "988bf2b1-88ae-4f9d-9549-5ad32d6a7656",
        "colab": {
          "base_uri": "https://localhost:8080/",
          "height": 122
        }
      },
      "source": [
        "from google.colab import drive\n",
        "drive.mount('/content/drive')"
      ],
      "execution_count": null,
      "outputs": [
        {
          "output_type": "stream",
          "text": [
            "Go to this URL in a browser: https://accounts.google.com/o/oauth2/auth?client_id=947318989803-6bn6qk8qdgf4n4g3pfee6491hc0brc4i.apps.googleusercontent.com&redirect_uri=urn%3aietf%3awg%3aoauth%3a2.0%3aoob&scope=email%20https%3a%2f%2fwww.googleapis.com%2fauth%2fdocs.test%20https%3a%2f%2fwww.googleapis.com%2fauth%2fdrive%20https%3a%2f%2fwww.googleapis.com%2fauth%2fdrive.photos.readonly%20https%3a%2f%2fwww.googleapis.com%2fauth%2fpeopleapi.readonly&response_type=code\n",
            "\n",
            "Enter your authorization code:\n",
            "··········\n",
            "Mounted at /content/drive\n"
          ],
          "name": "stdout"
        }
      ]
    },
    {
      "cell_type": "code",
      "metadata": {
        "id": "4_wDbhLcih66"
      },
      "source": [
        "from tensorflow.keras.preprocessing.image import ImageDataGenerator\n",
        "from tensorflow.keras.applications import VGG16, DenseNet121\n",
        "from tensorflow.keras.layers import AveragePooling2D, GlobalMaxPool2D, MaxPooling2D\n",
        "from tensorflow.keras.layers import Dropout\n",
        "from tensorflow.keras.layers import Flatten\n",
        "from tensorflow.keras.layers import Dense\n",
        "from tensorflow.keras.layers import Input\n",
        "from tensorflow.keras.models import Model\n",
        "from tensorflow.keras.optimizers import Adam\n",
        "from tensorflow.keras.utils import to_categorical\n",
        "from sklearn.preprocessing import LabelBinarizer\n",
        "from sklearn.model_selection import train_test_split\n",
        "from sklearn.metrics import classification_report\n",
        "from sklearn.metrics import confusion_matrix\n",
        "from imutils import paths\n",
        "import matplotlib.pyplot as plt\n",
        "import numpy as np\n",
        "import argparse\n",
        "import cv2\n",
        "import os\n",
        "import glob"
      ],
      "execution_count": null,
      "outputs": []
    },
    {
      "cell_type": "code",
      "metadata": {
        "id": "LJGfromoippC"
      },
      "source": [
        "#Normal Images Directories\n",
        "\n",
        "trainFolder = '/content/drive/My Drive/COVID-CT/Train'"
      ],
      "execution_count": null,
      "outputs": []
    },
    {
      "cell_type": "code",
      "metadata": {
        "id": "OUfbkj_Fk3U0"
      },
      "source": [
        "# trainDataLBP = []\n",
        "# trainLabel = [] #temporary storage\n",
        "# trainLabelLBP = []\n",
        "\n",
        "INIT_LR = 1e-3\n",
        "EPOCHS = 25\n",
        "BS = 8"
      ],
      "execution_count": null,
      "outputs": []
    },
    {
      "cell_type": "code",
      "metadata": {
        "id": "0IClbkf3k5VF"
      },
      "source": [
        "train_image_generator = ImageDataGenerator(rescale=1./255, validation_split=0.2)"
      ],
      "execution_count": null,
      "outputs": []
    },
    {
      "cell_type": "code",
      "metadata": {
        "id": "yyEMjGihk6iR",
        "outputId": "14322042-a66f-4d17-dd34-84fc8ad5c61b",
        "colab": {
          "base_uri": "https://localhost:8080/",
          "height": 51
        }
      },
      "source": [
        "train_data_gen = train_image_generator.flow_from_directory(batch_size=BS,\n",
        "                                                           directory = trainFolder,\n",
        "                                                           shuffle=True,\n",
        "                                                           target_size=(255, 255),\n",
        "                                                           class_mode='categorical',\n",
        "                                                           subset='training')\n",
        "\n",
        "validation_data_gen = train_image_generator.flow_from_directory(batch_size=BS,\n",
        "                                                           directory = trainFolder,\n",
        "                                                           shuffle=True,\n",
        "                                                           target_size=(255, 255),\n",
        "                                                           class_mode='categorical',\n",
        "                                                           subset='validation')"
      ],
      "execution_count": null,
      "outputs": [
        {
          "output_type": "stream",
          "text": [
            "Found 336 images belonging to 2 classes.\n",
            "Found 83 images belonging to 2 classes.\n"
          ],
          "name": "stdout"
        }
      ]
    },
    {
      "cell_type": "code",
      "metadata": {
        "id": "HeCTEyqak7f5"
      },
      "source": [
        "baseModel = VGG16(weights=\"imagenet\", include_top=False, input_tensor=Input(shape=(224, 224, 3)))\n",
        "#baseModel = DenseNet121(weights=\"imagenet\", include_top=False, input_tensor=Input(shape=(224, 224, 3)))\n",
        "\n",
        "headModel = baseModel.output\n",
        "headModel = GlobalMaxPool2D()(headModel)\n",
        "headModel = Flatten(name=\"flatten\")(headModel)\n",
        "headModel = Dense(64, activation=\"relu\")(headModel)\n",
        "headModel = Dropout(0.3)(headModel)\n",
        "headModel = Dense(2, activation=\"XX\")(headModel)\n",
        "\n",
        "model = Model(inputs=baseModel.input, outputs=headModel)\n",
        "\n",
        "for layer in baseModel.layers:\n",
        "    layer.trainable = False"
      ],
      "execution_count": null,
      "outputs": []
    },
    {
      "cell_type": "code",
      "metadata": {
        "id": "GyLsGUaimouc",
        "outputId": "501e600b-3462-4147-aeb6-7d4a54f2e1e7",
        "colab": {
          "base_uri": "https://localhost:8080/",
          "height": 921
        }
      },
      "source": [
        "print(\"[INFO] compiling model...\")\n",
        "opt = Adam(lr=INIT_LR, decay=INIT_LR / EPOCHS)\n",
        "model.compile(loss=\"binary_crossentropy\", optimizer=opt, metrics=[\"accuracy\"])\n",
        "\n",
        "# train the head of the network\n",
        "print(\"[INFO] training head...\")\n",
        "# H = model.fit(trainAug.flow(trainX, trainY, batch_size=BS), steps_per_epoch=len(trainX)/10, validation_data=(testX, testY), validation_steps=len(testX)/10, epochs=10)\n",
        "H = model.fit(train_data_gen, steps_per_epoch=train_data_gen.samples//BS, validation_data=validation_data_gen, validation_steps=validation_data_gen.samples//BS, epochs = EPOCHS)\n"
      ],
      "execution_count": null,
      "outputs": [
        {
          "output_type": "stream",
          "text": [
            "[INFO] compiling model...\n",
            "[INFO] training head...\n",
            "Epoch 1/25\n",
            "42/42 [==============================] - 261s 6s/step - loss: 0.7733 - accuracy: 0.5863 - val_loss: 0.6739 - val_accuracy: 0.5750\n",
            "Epoch 2/25\n",
            "42/42 [==============================] - 255s 6s/step - loss: 0.6343 - accuracy: 0.6399 - val_loss: 0.6801 - val_accuracy: 0.5500\n",
            "Epoch 3/25\n",
            "42/42 [==============================] - 255s 6s/step - loss: 0.6060 - accuracy: 0.6994 - val_loss: 0.6023 - val_accuracy: 0.7125\n",
            "Epoch 4/25\n",
            "42/42 [==============================] - 255s 6s/step - loss: 0.5741 - accuracy: 0.6964 - val_loss: 0.5927 - val_accuracy: 0.7375\n",
            "Epoch 5/25\n",
            "42/42 [==============================] - 255s 6s/step - loss: 0.5032 - accuracy: 0.7440 - val_loss: 0.5453 - val_accuracy: 0.7125\n",
            "Epoch 6/25\n",
            "42/42 [==============================] - 256s 6s/step - loss: 0.4772 - accuracy: 0.7708 - val_loss: 0.5734 - val_accuracy: 0.7000\n",
            "Epoch 7/25\n",
            "42/42 [==============================] - 256s 6s/step - loss: 0.4625 - accuracy: 0.7857 - val_loss: 0.5705 - val_accuracy: 0.7000\n",
            "Epoch 8/25\n",
            "42/42 [==============================] - 255s 6s/step - loss: 0.4252 - accuracy: 0.8036 - val_loss: 0.5819 - val_accuracy: 0.6625\n",
            "Epoch 9/25\n",
            "42/42 [==============================] - 256s 6s/step - loss: 0.3839 - accuracy: 0.8244 - val_loss: 0.5787 - val_accuracy: 0.7375\n",
            "Epoch 10/25\n",
            "42/42 [==============================] - 255s 6s/step - loss: 0.4283 - accuracy: 0.7917 - val_loss: 0.6080 - val_accuracy: 0.6750\n",
            "Epoch 11/25\n",
            "42/42 [==============================] - 256s 6s/step - loss: 0.3645 - accuracy: 0.8542 - val_loss: 0.5399 - val_accuracy: 0.7750\n",
            "Epoch 12/25\n",
            "42/42 [==============================] - 261s 6s/step - loss: 0.3606 - accuracy: 0.8482 - val_loss: 0.5753 - val_accuracy: 0.6875\n",
            "Epoch 13/25\n",
            "42/42 [==============================] - 256s 6s/step - loss: 0.3554 - accuracy: 0.8423 - val_loss: 0.5739 - val_accuracy: 0.7625\n",
            "Epoch 14/25\n",
            "42/42 [==============================] - 263s 6s/step - loss: 0.3354 - accuracy: 0.8631 - val_loss: 0.5793 - val_accuracy: 0.7375\n",
            "Epoch 15/25\n",
            "42/42 [==============================] - 257s 6s/step - loss: 0.2929 - accuracy: 0.8690 - val_loss: 0.6232 - val_accuracy: 0.7750\n",
            "Epoch 16/25\n",
            "42/42 [==============================] - 256s 6s/step - loss: 0.2904 - accuracy: 0.8661 - val_loss: 0.7066 - val_accuracy: 0.6750\n",
            "Epoch 17/25\n",
            "42/42 [==============================] - 256s 6s/step - loss: 0.2748 - accuracy: 0.8810 - val_loss: 0.5991 - val_accuracy: 0.7375\n",
            "Epoch 18/25\n",
            "42/42 [==============================] - 256s 6s/step - loss: 0.2463 - accuracy: 0.9048 - val_loss: 0.6480 - val_accuracy: 0.7000\n",
            "Epoch 19/25\n",
            "42/42 [==============================] - 256s 6s/step - loss: 0.2541 - accuracy: 0.8929 - val_loss: 0.5704 - val_accuracy: 0.7750\n",
            "Epoch 20/25\n",
            "42/42 [==============================] - 257s 6s/step - loss: 0.2325 - accuracy: 0.9077 - val_loss: 0.6462 - val_accuracy: 0.6750\n",
            "Epoch 21/25\n",
            "42/42 [==============================] - 257s 6s/step - loss: 0.2289 - accuracy: 0.9107 - val_loss: 0.6939 - val_accuracy: 0.6750\n",
            "Epoch 22/25\n",
            "42/42 [==============================] - 257s 6s/step - loss: 0.2755 - accuracy: 0.8869 - val_loss: 0.6206 - val_accuracy: 0.7500\n",
            "Epoch 23/25\n",
            "42/42 [==============================] - 255s 6s/step - loss: 0.1974 - accuracy: 0.9167 - val_loss: 0.6791 - val_accuracy: 0.6500\n",
            "Epoch 24/25\n",
            "42/42 [==============================] - 255s 6s/step - loss: 0.1759 - accuracy: 0.9494 - val_loss: 0.6736 - val_accuracy: 0.6750\n",
            "Epoch 25/25\n",
            "42/42 [==============================] - 255s 6s/step - loss: 0.1873 - accuracy: 0.9286 - val_loss: 0.6912 - val_accuracy: 0.6625\n"
          ],
          "name": "stdout"
        }
      ]
    },
    {
      "cell_type": "code",
      "metadata": {
        "id": "QHBsmE8brT5Q",
        "outputId": "2f091118-3ed2-4a78-b563-57eaf018f1f3",
        "colab": {
          "base_uri": "https://localhost:8080/",
          "height": 34
        }
      },
      "source": [
        "avg = (sum(H.history[\"val_accuracy\"])/len(H.history[\"val_accuracy\"]))\n",
        "avg"
      ],
      "execution_count": null,
      "outputs": [
        {
          "output_type": "execute_result",
          "data": {
            "text/plain": [
              "0.6989999985694886"
            ]
          },
          "metadata": {
            "tags": []
          },
          "execution_count": 12
        }
      ]
    },
    {
      "cell_type": "code",
      "metadata": {
        "id": "JAaLhCc3rUQv",
        "outputId": "0372948f-305f-40cb-f248-80eaa8dc3ac0",
        "colab": {
          "base_uri": "https://localhost:8080/",
          "height": 68
        }
      },
      "source": [
        "Y_pred = model.predict(validation_data_gen, validation_data_gen.samples // BS+1)\n",
        "y_pred = np.argmax(Y_pred, axis=1)\n",
        "print('Confusion Matrix')\n",
        "print(confusion_matrix(validation_data_gen.classes, y_pred))"
      ],
      "execution_count": null,
      "outputs": [
        {
          "output_type": "stream",
          "text": [
            "Confusion Matrix\n",
            "[[30 16]\n",
            " [23 14]]\n"
          ],
          "name": "stdout"
        }
      ]
    },
    {
      "cell_type": "code",
      "metadata": {
        "id": "SbsOFGsGmty8",
        "outputId": "4575b2b3-bbae-49c0-a2e7-d1994a1a34e6",
        "colab": {
          "base_uri": "https://localhost:8080/",
          "height": 316
        }
      },
      "source": [
        "            # plot the training loss and accuracy\n",
        "N = EPOCHS\n",
        "plt.style.use(\"ggplot\")\n",
        "plt.figure()\n",
        "plt.plot(np.arange(0, N), H.history[\"loss\"], label=\"train_loss\")\n",
        "plt.plot(np.arange(0, N), H.history[\"val_loss\"], label=\"val_loss\")\n",
        "plt.plot(np.arange(0, N), H.history[\"accuracy\"], label=\"train_acc\")\n",
        "plt.plot(np.arange(0, N), H.history[\"val_accuracy\"], label=\"val_acc\")\n",
        "plt.title(\"Training Loss and Accuracy on COVID-19 LBP\")\n",
        "plt.xlabel(\"Epoch #\")\n",
        "plt.ylabel(\"Loss/Accuracy\")\n",
        "plt.legend(loc=\"lower left\")\n",
        "#plt.ylim(0.2, 0.75)\n",
        "#plt.savefig(args[\"plot\"])"
      ],
      "execution_count": null,
      "outputs": [
        {
          "output_type": "execute_result",
          "data": {
            "text/plain": [
              "<matplotlib.legend.Legend at 0x7fd1580e97b8>"
            ]
          },
          "metadata": {
            "tags": []
          },
          "execution_count": 14
        },
        {
          "output_type": "display_data",
          "data": {
            "image/png": "[encoded data removed]",
            "text/plain": [
              "<Figure size 432x288 with 1 Axes>"
            ]
          },
          "metadata": {
            "tags": []
          }
        }
      ]
    },
    {
      "cell_type": "code",
      "metadata": {
        "id": "HNl4A-OuvlCW",
        "outputId": "f62e782a-4414-4a95-add9-12383a005977",
        "colab": {
          "base_uri": "https://localhost:8080/",
          "height": 34
        }
      },
      "source": [
        "# # serialize the model to disk\n",
        "# print(\"[INFO] saving COVID-19 detector model...\")\n",
        "# model.save(\"/content/drive/My Drive/COVID-CT/Models/normalModel.h5\")"
      ],
      "execution_count": null,
      "outputs": [
        {
          "output_type": "stream",
          "text": [
            "[INFO] saving COVID-19 detector model...\n"
          ],
          "name": "stdout"
        }
      ]
    },
    {
      "cell_type": "code",
      "metadata": {
        "id": "3dU0zgUlJJ0z",
        "outputId": "8ef530c3-bff5-4dd2-a617-20929524e981",
        "colab": {
          "base_uri": "https://localhost:8080/",
          "height": 34
        }
      },
      "source": [
        "model_json = model.to_json()\n",
        "with open(\"/content/drive/My Drive/COVID-CT/Models/normalModel.json\", \"w\") as json_file:\n",
        "    json_file.write(model_json)\n",
        "# serialize weights to HDF5\n",
        "model.save_weights(\"normalModel.h5\")\n",
        "print(\"Saved model to disk\")"
      ],
      "execution_count": null,
      "outputs": [
        {
          "output_type": "stream",
          "text": [
            "Saved model to disk\n"
          ],
          "name": "stdout"
        }
      ]
    },
    {
      "cell_type": "code",
      "metadata": {
        "id": "QmOtoGBA3T8e"
      },
      "source": [
        ""
      ],
      "execution_count": null,
      "outputs": []
    }
  ]
}